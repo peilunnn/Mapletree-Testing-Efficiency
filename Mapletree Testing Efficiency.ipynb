{
 "cells": [
  {
   "cell_type": "code",
   "execution_count": 93,
   "metadata": {
    "ExecuteTime": {
     "end_time": "2020-05-19T06:33:12.921212Z",
     "start_time": "2020-05-19T06:33:10.962012Z"
    }
   },
   "outputs": [
    {
     "data": {
      "image/png": "[encoded data removed]",
      "text/plain": [
       "<Figure size 432x288 with 1 Axes>"
      ]
     },
     "metadata": {
      "needs_background": "light"
     },
     "output_type": "display_data"
    }
   ],
   "source": [
    "import pandas as pd\n",
    "import re\n",
    "import matplotlib.pyplot as plt\n",
    "import datetime\n",
    "\n",
    "df = pd.read_excel('mapletree testing efficiency.xlsx',index=False)\n",
    "\n",
    "# SELECT ONLY THE TWO COLUMNS WE WANT\n",
    "df = df[['Lift Handover Date','Ofar result']]\n",
    "df.dropna(inplace=True)\n",
    "\n",
    "\n",
    "# CONVERT STRINGS IN LIFT HANDOVER DATE COLUMN TO DATETIME OBJECT\n",
    "df['Lift Handover Date'] = pd.to_datetime(df['Lift Handover Date'])\n",
    "\n",
    "\n",
    "# EXTRACT YEAR AND MONTH OF LIFT HANDOVER DATE COLUMN INTO 2 SEPARATE COLUMNS\n",
    "df['year'], df['month'] = df['Lift Handover Date'].dt.year, df['Lift Handover Date'].dt.month\n",
    "\n",
    "\n",
    "# CLEAN UP DATA\n",
    "df['Ofar Result'] = df['Ofar result'].map({'GO': 'Go', 'No-go': 'No-Go'})\n",
    "\n",
    "\n",
    "# CONVERT MONTH AND YEAR INTO A SINGLE DATETIME OBJECT MONTHYEAR\n",
    "for i in range(len(df)):\n",
    "    df.loc[i, 'MonthYear'] = datetime.datetime(df.loc[i, 'year'], df.loc[i, 'month'], 1)\n",
    "    \n",
    "    \n",
    "# SORT BY MONTH AND YEAR\n",
    "df2 = df.groupby(['MonthYear','Ofar Result'])['MonthYear'].count().unstack('Ofar Result').sort_values('MonthYear').fillna(0)\n",
    "\n",
    "\n",
    "# EXTRACT MONTH AND YEAR FROM MONTHYEAR INTO NEW COLUMN MONTHYEAR2 AS STRING\n",
    "df2['MonthYear2'] = df2.index\n",
    "df2['MonthYear2'] = df2['MonthYear2'].dt.month.astype(str) + ' ' + df2['MonthYear2'].dt.year.astype(str)\n",
    "\n",
    "\n",
    "# DEFINE FUNCTION TO CONVERT STR NUMBER OF MONTH INTO NAME OF MONTH\n",
    "def convertIntoReadableString(s):\n",
    "    s_lst = s.split()\n",
    "    s_month = s_lst[0]\n",
    "    s_month_dct = {'1': 'Jan',\n",
    "                   '2': 'Feb',\n",
    "                   '3': 'Mar',\n",
    "                   '4': 'Apr',\n",
    "                   '5': 'May',\n",
    "                   '6': 'Jun',\n",
    "                   '7': 'Jul',\n",
    "                   '8': 'Aug',\n",
    "                   '9': 'Sep',\n",
    "                   '10': 'Oct',\n",
    "                   '11': 'Nov',\n",
    "                   '12': 'Dec'\n",
    "                  }\n",
    "    \n",
    "    name_month = s_month_dct[s_month]\n",
    "    return name_month + ' ' + s_lst[1]\n",
    "\n",
    "\n",
    "# APPLY CONVERSION\n",
    "df2['MonthYear_readable'] = df2['MonthYear2'].map(lambda s: convertIntoReadableString(s))\n",
    "\n",
    "\n",
    "# SET MONTHYEAR_READABLE AS INDEX\n",
    "df2.set_index('MonthYear_readable', inplace=True)\n",
    "\n",
    "\n",
    "df2[['Go','No-Go']].plot(kind='bar', stacked=True, width = 0.7, align = 'edge', color = ['g','r'])\n",
    "\n",
    "\n",
    "plt.xticks(rotation=45)\n",
    "plt.xlabel('Date')\n",
    "plt.gcf().subplots_adjust(bottom=0.30)\n",
    "plt.savefig('Mapletree efficiency bar chart updated.png',dpi=1000) \n",
    "plt.show()\n"
   ]
  }
 ],
 "metadata": {
  "kernelspec": {
   "display_name": "Python 3",
   "language": "python",
   "name": "python3"
  },
  "language_info": {
   "codemirror_mode": {
    "name": "ipython",
    "version": 3
   },
   "file_extension": ".py",
   "mimetype": "text/x-python",
   "name": "python",
   "nbconvert_exporter": "python",
   "pygments_lexer": "ipython3",
   "version": "3.7.1"
  },
  "toc": {
   "base_numbering": 1,
   "nav_menu": {},
   "number_sections": true,
   "sideBar": true,
   "skip_h1_title": false,
   "title_cell": "Table of Contents",
   "title_sidebar": "Contents",
   "toc_cell": false,
   "toc_position": {},
   "toc_section_display": true,
   "toc_window_display": false
  },
  "varInspector": {
   "cols": {
    "lenName": 16,
    "lenType": 16,
    "lenVar": 40
   },
   "kernels_config": {
    "python": {
     "delete_cmd_postfix": "",
     "delete_cmd_prefix": "del ",
     "library": "var_list.py",
     "varRefreshCmd": "print(var_dic_list())"
    },
    "r": {
     "delete_cmd_postfix": ") ",
     "delete_cmd_prefix": "rm(",
     "library": "var_list.r",
     "varRefreshCmd": "cat(var_dic_list()) "
    }
   },
   "types_to_exclude": [
    "module",
    "function",
    "builtin_function_or_method",
    "instance",
    "_Feature"
   ],
   "window_display": false
  }
 },
 "nbformat": 4,
 "nbformat_minor": 2
}
